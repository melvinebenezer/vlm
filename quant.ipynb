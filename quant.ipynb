{
 "cells": [
  {
   "cell_type": "code",
   "execution_count": 1,
   "metadata": {},
   "outputs": [
    {
     "name": "stdout",
     "output_type": "stream",
     "text": [
      "[ 42.35 -41.27   0.    12.25 -23.1   13.71  34.11  41.35 -40.27  32.93\n",
      " -17.77  34.9  -16.92  32.86 -37.66   8.82  29.77 -35.68   5.61  -0.26]\n"
     ]
    }
   ],
   "source": [
    "import numpy as np\n",
    "\n",
    "# suppress scientific notation\n",
    "np.set_printoptions(precision=2)\n",
    "\n",
    "# generate randomly distributed parameters\n",
    "params = np.random.uniform(low=-50, high=50, size=20)\n",
    "\n",
    "# Make sure important values are the begining for better debugging\n",
    "params[0] = params.max() + 1\n",
    "params[1] = params.min() - 1\n",
    "params[2] = 0\n",
    "\n",
    "# roung each number to second decimal place\n",
    "params = np.round(params, 2)\n",
    "\n",
    "print(params)\n",
    "\n",
    "\n"
   ]
  },
  {
   "cell_type": "code",
   "execution_count": 10,
   "metadata": {},
   "outputs": [],
   "source": [
    "params = np.random.uniform(low=-50, high=150, size = 10000)\n",
    "\n",
    "# introduce an outlier\n",
    "params[-1] = 1000\n",
    "\n",
    "params = np.round(params, 2)"
   ]
  },
  {
   "cell_type": "code",
   "execution_count": 15,
   "metadata": {},
   "outputs": [
    {
     "name": "stdout",
     "output_type": "stream",
     "text": [
      "Original parameters:\n",
      "[  15.86    8.67  123.44 ...   74.83    5.89 1000.  ]\n",
      "\n",
      "Asymmetric scale: 4.117490196078432, zero: 12.0\n",
      "[ 16  14  42 ...  30  13 255]\n",
      "\n",
      "Asymmetric scale percentile: 0.784058866664309, zero: 64.0\n",
      "[ 84  75 221 ... 159  72 255]\n",
      "\n",
      "Symmetric scale: 7.874015748031496\n",
      "[  2   1  16 ...  10   1 127]\n"
     ]
    }
   ],
   "source": [
    "def clamp(params_q: np.array, lower_bound: int, upper_bound: int) -> np.array:\n",
    "    params_q[params_q < lower_bound] = lower_bound\n",
    "    params_q[params_q > upper_bound] = upper_bound\n",
    "    return params_q\n",
    "\n",
    "def asymmetric_quantization(params: np.array, bits: int) -> tuple[np.array, float, int]:\n",
    "    # Calculate the scale and zero point\n",
    "    alpha =  np.max(params)\n",
    "    beta = np.min(params)\n",
    "    scale = (alpha - beta) / (2**bits - 1)\n",
    "    zero = -1 * np.round(beta/scale)\n",
    "    lower_bound, upper_bound = 0, 2**bits - 1\n",
    "\n",
    "    # Quantize the parameters\n",
    "    quantized = clamp(np.round(params/scale + zero), lower_bound, upper_bound).astype(np.int32)\n",
    "    return quantized, scale, zero\n",
    "\n",
    "# percentile strategy\n",
    "def asymmetric_quantization_percentile(params: np.array, bits: int, percentile: float = 99.99) -> tuple[np.array, float, int]:\n",
    "    # find the percentile value\n",
    "    alpha = np.percentile(params, percentile)\n",
    "    beta = np.percentile(params, 100 - percentile)\n",
    "    scale = (alpha - beta) / (2**bits - 1)\n",
    "    zero = -1 * np.round(beta / scale)\n",
    "    lower_bound, upper_bound = 0, 2**bits - 1\n",
    "    quantized = clamp(np.round(params / scale + zero), lower_bound, upper_bound).astype(np.int32)\n",
    "    return quantized, scale, zero\n",
    "\n",
    "\n",
    "def asymmetric_dequantize(params_q: np.array, scale: float, zero: int) -> np.array:\n",
    "    return (params_q - zero) * scale\n",
    "\n",
    "def symmetric_dequantize(params_q: np.array, scale: float) -> np.array:\n",
    "    return params_q * scale\n",
    "\n",
    "def symmetric_quantization(params: np.array, bits: int) -> tuple[np.array, float]:\n",
    "    # Calculate the scale and zero point\n",
    "    alpha = np.max(np.abs(params))\n",
    "    scale = alpha / (2**(bits-1) - 1)\n",
    "    lower_bound = -2**(bits - 1)\n",
    "    upper_bound = 2**(bits - 1) - 1\n",
    "\n",
    "    # Quantize the parameters\n",
    "    quantized = clamp(np.round(params/scale), lower_bound, upper_bound).astype(np.int32)\n",
    "    return quantized, scale\n",
    "\n",
    "def quantization_error(params: np.array, params_q: np.array) -> float:\n",
    "    # Calculate the MSE\n",
    "    return np.mean((params - params_q)**2)\n",
    "\n",
    "(asymmetric_q, asymmetric_scale, asymmetric_zero) = asymmetric_quantization(params, 8)\n",
    "(symmetric_q, symmetric_scale) = symmetric_quantization(params, 8)\n",
    "(asymmetric_q_percentile, asymmetric_scale_percentile, asymmetric_zero_percentile) = asymmetric_quantization_percentile(params, 8)\n",
    "\n",
    "print(\"Original parameters:\")\n",
    "print(params)\n",
    "print('')\n",
    "print(f'Asymmetric scale: {asymmetric_scale}, zero: {asymmetric_zero}')\n",
    "print(asymmetric_q)\n",
    "print('')\n",
    "print(f'Asymmetric scale percentile: {asymmetric_scale_percentile}, zero: {asymmetric_zero_percentile}')\n",
    "print(asymmetric_q_percentile)\n",
    "print('')\n",
    "print(f'Symmetric scale: {symmetric_scale}')\n",
    "print(symmetric_q)\n",
    "\n"
   ]
  },
  {
   "cell_type": "code",
   "execution_count": 16,
   "metadata": {},
   "outputs": [
    {
     "name": "stdout",
     "output_type": "stream",
     "text": [
      "\n",
      "[  15.86    8.67  123.44 ...   74.83    5.89 1000.  ]\n",
      "\n",
      "Dequantize Asymmetric: \n",
      "[  16.47    8.23  123.52 ...   74.11    4.12 1000.55]\n",
      "\n",
      "Dequantize Asymmetric Percentile: \n",
      "[ 15.68   8.62 123.1  ...  74.49   6.27 149.76]\n",
      "\n",
      "Dequantize Symmetric: \n",
      "[  15.75    7.87  125.98 ...   78.74    7.87 1000.  ]\n"
     ]
    }
   ],
   "source": [
    "# Dequantize the parameters\n",
    "\n",
    "params_deq_asymmetric = asymmetric_dequantize(asymmetric_q, asymmetric_scale, asymmetric_zero)\n",
    "params_deq_asymmetric_percentile = asymmetric_dequantize(asymmetric_q_percentile, asymmetric_scale_percentile, asymmetric_zero_percentile)\n",
    "params_deq_symmetric = symmetric_dequantize(symmetric_q, symmetric_scale)\n",
    "\n",
    "\n",
    "print('')\n",
    "print(np.round(params, 2))\n",
    "print('')\n",
    "print(f'Dequantize Asymmetric: ')\n",
    "print(np.round(params_deq_asymmetric, 2))\n",
    "print('')\n",
    "print(f'Dequantize Asymmetric Percentile: ')\n",
    "print(np.round(params_deq_asymmetric_percentile, 2))\n",
    "print('')\n",
    "print(f'Dequantize Symmetric: ')\n",
    "print(np.round(params_deq_symmetric, 2))"
   ]
  },
  {
   "cell_type": "code",
   "execution_count": 22,
   "metadata": {},
   "outputs": [
    {
     "name": "stdout",
     "output_type": "stream",
     "text": [
      "  Asymmetric error: 1.41\n",
      "   Symmetric error: 5.11\n",
      "Asymmetric error percentile: 72.34\n",
      "Asymmetric error percentile w/o outlier: 0.05\n"
     ]
    }
   ],
   "source": [
    "# Calculate the quantiztion error\n",
    "print(f'{\"Asymmetric error: \":>20}{np.round(quantization_error(params, params_deq_asymmetric), 2)}')\n",
    "print(f'{\"Symmetric error: \":>20}{np.round(quantization_error(params, params_deq_symmetric), 2)}')\n",
    "print(f'{\"Asymmetric error percentile: \":>20}{np.round(quantization_error(params, params_deq_asymmetric_percentile), 2)}')\n",
    "print(f'{\"Asymmetric error percentile w/o outlier: \":>20}{np.round(quantization_error(params[:-1], params_deq_asymmetric_percentile[:-1]), 2)}')"
   ]
  },
  {
   "cell_type": "code",
   "execution_count": null,
   "metadata": {},
   "outputs": [],
   "source": []
  }
 ],
 "metadata": {
  "kernelspec": {
   "display_name": "venv",
   "language": "python",
   "name": "python3"
  },
  "language_info": {
   "codemirror_mode": {
    "name": "ipython",
    "version": 3
   },
   "file_extension": ".py",
   "mimetype": "text/x-python",
   "name": "python",
   "nbconvert_exporter": "python",
   "pygments_lexer": "ipython3",
   "version": "3.10.8"
  }
 },
 "nbformat": 4,
 "nbformat_minor": 2
}
